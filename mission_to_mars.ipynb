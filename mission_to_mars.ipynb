{
 "cells": [
  {
   "cell_type": "code",
   "execution_count": 15,
   "metadata": {},
   "outputs": [],
   "source": [
    "## Import all dependecies necessary\n",
    "\n",
    "from bs4 import BeautifulSoup as be_so\n",
    "import requests\n",
    "import pymongo\n"
   ]
  },
  {
   "cell_type": "code",
   "execution_count": 2,
   "metadata": {},
   "outputs": [
    {
     "name": "stdout",
     "output_type": "stream",
     "text": [
      "Requirement already satisfied: splinter in /Users/naomigebru/opt/anaconda3/lib/python3.9/site-packages (0.17.0)\n",
      "Note: you may need to restart the kernel to use updated packages.\n"
     ]
    }
   ],
   "source": [
    "pip install splinter\n"
   ]
  },
  {
   "cell_type": "code",
   "execution_count": 7,
   "metadata": {},
   "outputs": [],
   "source": [
    "from splinter import Browser "
   ]
  },
  {
   "cell_type": "code",
   "execution_count": 8,
   "metadata": {},
   "outputs": [
    {
     "name": "stdout",
     "output_type": "stream",
     "text": [
      "Requirement already satisfied: flask_pymongo in /Users/naomigebru/opt/anaconda3/lib/python3.9/site-packages (2.3.0)\n",
      "Requirement already satisfied: Flask>=0.11 in /Users/naomigebru/opt/anaconda3/lib/python3.9/site-packages (from flask_pymongo) (1.1.2)\n",
      "Requirement already satisfied: PyMongo>=3.3 in /Users/naomigebru/opt/anaconda3/lib/python3.9/site-packages (from flask_pymongo) (4.1.1)\n",
      "Requirement already satisfied: Jinja2>=2.10.1 in /Users/naomigebru/opt/anaconda3/lib/python3.9/site-packages (from Flask>=0.11->flask_pymongo) (2.11.3)\n",
      "Requirement already satisfied: click>=5.1 in /Users/naomigebru/opt/anaconda3/lib/python3.9/site-packages (from Flask>=0.11->flask_pymongo) (8.0.3)\n",
      "Requirement already satisfied: itsdangerous>=0.24 in /Users/naomigebru/opt/anaconda3/lib/python3.9/site-packages (from Flask>=0.11->flask_pymongo) (2.0.1)\n",
      "Requirement already satisfied: Werkzeug>=0.15 in /Users/naomigebru/opt/anaconda3/lib/python3.9/site-packages (from Flask>=0.11->flask_pymongo) (2.0.2)\n",
      "Requirement already satisfied: MarkupSafe>=0.23 in /Users/naomigebru/opt/anaconda3/lib/python3.9/site-packages (from Jinja2>=2.10.1->Flask>=0.11->flask_pymongo) (1.1.1)\n",
      "Note: you may need to restart the kernel to use updated packages.\n"
     ]
    }
   ],
   "source": [
    "pip install flask_pymongo"
   ]
  },
  {
   "cell_type": "code",
   "execution_count": 9,
   "metadata": {},
   "outputs": [
    {
     "name": "stdout",
     "output_type": "stream",
     "text": [
      "Requirement already satisfied: selenium in /Users/naomigebru/opt/anaconda3/lib/python3.9/site-packages (4.2.0)\n",
      "Requirement already satisfied: urllib3[secure,socks]~=1.26 in /Users/naomigebru/opt/anaconda3/lib/python3.9/site-packages (from selenium) (1.26.7)\n",
      "Requirement already satisfied: trio-websocket~=0.9 in /Users/naomigebru/opt/anaconda3/lib/python3.9/site-packages (from selenium) (0.9.2)\n",
      "Requirement already satisfied: trio~=0.17 in /Users/naomigebru/opt/anaconda3/lib/python3.9/site-packages (from selenium) (0.20.0)\n",
      "Requirement already satisfied: sortedcontainers in /Users/naomigebru/opt/anaconda3/lib/python3.9/site-packages (from trio~=0.17->selenium) (2.4.0)\n",
      "Requirement already satisfied: attrs>=19.2.0 in /Users/naomigebru/opt/anaconda3/lib/python3.9/site-packages (from trio~=0.17->selenium) (21.2.0)\n",
      "Requirement already satisfied: outcome in /Users/naomigebru/opt/anaconda3/lib/python3.9/site-packages (from trio~=0.17->selenium) (1.1.0)\n",
      "Requirement already satisfied: async-generator>=1.9 in /Users/naomigebru/opt/anaconda3/lib/python3.9/site-packages (from trio~=0.17->selenium) (1.10)\n",
      "Requirement already satisfied: sniffio in /Users/naomigebru/opt/anaconda3/lib/python3.9/site-packages (from trio~=0.17->selenium) (1.2.0)\n",
      "Requirement already satisfied: idna in /Users/naomigebru/opt/anaconda3/lib/python3.9/site-packages (from trio~=0.17->selenium) (3.2)\n",
      "Requirement already satisfied: wsproto>=0.14 in /Users/naomigebru/opt/anaconda3/lib/python3.9/site-packages (from trio-websocket~=0.9->selenium) (1.1.0)\n",
      "Requirement already satisfied: PySocks!=1.5.7,<2.0,>=1.5.6 in /Users/naomigebru/opt/anaconda3/lib/python3.9/site-packages (from urllib3[secure,socks]~=1.26->selenium) (1.7.1)\n",
      "Requirement already satisfied: pyOpenSSL>=0.14 in /Users/naomigebru/opt/anaconda3/lib/python3.9/site-packages (from urllib3[secure,socks]~=1.26->selenium) (21.0.0)\n",
      "Requirement already satisfied: cryptography>=1.3.4 in /Users/naomigebru/opt/anaconda3/lib/python3.9/site-packages (from urllib3[secure,socks]~=1.26->selenium) (3.4.8)\n",
      "Requirement already satisfied: certifi in /Users/naomigebru/opt/anaconda3/lib/python3.9/site-packages (from urllib3[secure,socks]~=1.26->selenium) (2021.10.8)\n",
      "Requirement already satisfied: cffi>=1.12 in /Users/naomigebru/opt/anaconda3/lib/python3.9/site-packages (from cryptography>=1.3.4->urllib3[secure,socks]~=1.26->selenium) (1.14.6)\n",
      "Requirement already satisfied: six>=1.5.2 in /Users/naomigebru/opt/anaconda3/lib/python3.9/site-packages (from pyOpenSSL>=0.14->urllib3[secure,socks]~=1.26->selenium) (1.16.0)\n",
      "Requirement already satisfied: h11<1,>=0.9.0 in /Users/naomigebru/opt/anaconda3/lib/python3.9/site-packages (from wsproto>=0.14->trio-websocket~=0.9->selenium) (0.13.0)\n",
      "Requirement already satisfied: pycparser in /Users/naomigebru/opt/anaconda3/lib/python3.9/site-packages (from cffi>=1.12->cryptography>=1.3.4->urllib3[secure,socks]~=1.26->selenium) (2.20)\n",
      "Note: you may need to restart the kernel to use updated packages.\n"
     ]
    }
   ],
   "source": [
    "pip install selenium"
   ]
  },
  {
   "cell_type": "code",
   "execution_count": 10,
   "metadata": {},
   "outputs": [
    {
     "name": "stdout",
     "output_type": "stream",
     "text": [
      "Requirement already satisfied: webdriver_manager in /Users/naomigebru/opt/anaconda3/lib/python3.9/site-packages (3.7.0)\n",
      "Requirement already satisfied: requests in /Users/naomigebru/opt/anaconda3/lib/python3.9/site-packages (from webdriver_manager) (2.26.0)\n",
      "Requirement already satisfied: python-dotenv in /Users/naomigebru/opt/anaconda3/lib/python3.9/site-packages (from webdriver_manager) (0.20.0)\n",
      "Requirement already satisfied: idna<4,>=2.5 in /Users/naomigebru/opt/anaconda3/lib/python3.9/site-packages (from requests->webdriver_manager) (3.2)\n",
      "Requirement already satisfied: certifi>=2017.4.17 in /Users/naomigebru/opt/anaconda3/lib/python3.9/site-packages (from requests->webdriver_manager) (2021.10.8)\n",
      "Requirement already satisfied: charset-normalizer~=2.0.0 in /Users/naomigebru/opt/anaconda3/lib/python3.9/site-packages (from requests->webdriver_manager) (2.0.4)\n",
      "Requirement already satisfied: urllib3<1.27,>=1.21.1 in /Users/naomigebru/opt/anaconda3/lib/python3.9/site-packages (from requests->webdriver_manager) (1.26.7)\n",
      "Note: you may need to restart the kernel to use updated packages.\n"
     ]
    }
   ],
   "source": [
    "pip install webdriver_manager"
   ]
  },
  {
   "cell_type": "code",
   "execution_count": 11,
   "metadata": {},
   "outputs": [],
   "source": [
    "from flask import Flask, render_template, redirect\n",
    "from flask_pymongo import pymongo\n",
    "import pandas as ps\n",
    "from selenium import webdriver\n",
    "from webdriver_manager.chrome import ChromeDriverManager\n",
    "import time"
   ]
  },
  {
   "cell_type": "code",
   "execution_count": 12,
   "metadata": {},
   "outputs": [
    {
     "name": "stdout",
     "output_type": "stream",
     "text": [
      "\n"
     ]
    },
    {
     "name": "stderr",
     "output_type": "stream",
     "text": [
      "[WDM] - ====== WebDriver manager ======\n",
      "[WDM] - Current google-chrome version is 101.0.4951\n",
      "[WDM] - Get LATEST chromedriver version for 101.0.4951 google-chrome\n",
      "[WDM] - Driver [/Users/naomigebru/.wdm/drivers/chromedriver/mac64/101.0.4951.41/chromedriver] found in cache\n"
     ]
    }
   ],
   "source": [
    "exec_path = {'executable_path': ChromeDriverManager().install()}\n",
    "browser = Browser('chrome', **exec_path, headless=False)"
   ]
  },
  {
   "cell_type": "code",
   "execution_count": 13,
   "metadata": {},
   "outputs": [],
   "source": [
    "## define url and set browser visit\n",
    "\n",
    "url = 'https://redplanetscience.com/'\n",
    "browser.visit(url)\n",
    "time.sleep(5)"
   ]
  },
  {
   "cell_type": "code",
   "execution_count": 16,
   "metadata": {},
   "outputs": [],
   "source": [
    "## get the page scraped and into beautiful Soup\n",
    "\n",
    "html_ = browser.html\n",
    "sp = be_so(html_, \"html.parser\")"
   ]
  },
  {
   "cell_type": "code",
   "execution_count": 17,
   "metadata": {},
   "outputs": [],
   "source": [
    "#find the titles and parragraphs\n",
    "\n",
    "titles = sp.find_all('div',class_=\"content_title\")[0].text\n",
    "parragraph = sp.find_all('div',class_=\"article_teaser_body\")[0].text"
   ]
  },
  {
   "cell_type": "code",
   "execution_count": 18,
   "metadata": {},
   "outputs": [],
   "source": [
    "# Get images! to get them define url to collect from\n",
    "\n",
    "marsimages_url = 'https://spaceimages-mars.com/'\n",
    "browser.visit(marsimages_url)\n",
    "time.sleep(5)"
   ]
  },
  {
   "cell_type": "code",
   "execution_count": 19,
   "metadata": {},
   "outputs": [],
   "source": [
    "##browse the url, scrape the data into beautiful soup\n",
    "\n",
    "html_=browser.html\n",
    "soup=be_so(html_, 'html.parser')\n",
    "imgs_url = soup.find(\"a\", class_ = \"showimg fancybox-thumbs\")[\"href\"]\n",
    "featured_img_url = marsimages_url + imgs_url"
   ]
  },
  {
   "cell_type": "code",
   "execution_count": 20,
   "metadata": {},
   "outputs": [],
   "source": [
    "# Collect fact table about mars - set url\n",
    "\n",
    "fact_url = \"https://galaxyfacts-mars.com\"\n",
    "browser.visit(fact_url)"
   ]
  },
  {
   "cell_type": "code",
   "execution_count": 22,
   "metadata": {},
   "outputs": [],
   "source": [
    "## gather the table and store in a dataframe \n",
    "\n",
    "tables_ = ps.read_html(fact_url)\n",
    "data_df = tables_[1]\n",
    "data_df.columns = [\"description\", \"content\"]\n",
    "data_df.set_index(\"description\", inplace=True)"
   ]
  },
  {
   "cell_type": "code",
   "execution_count": 23,
   "metadata": {},
   "outputs": [],
   "source": [
    "##hemispheres data colletions, start with url\n",
    "hemis_url = \"https://marshemispheres.com/\"\n",
    "browser.visit(hemis_url)"
   ]
  },
  {
   "cell_type": "code",
   "execution_count": 25,
   "metadata": {},
   "outputs": [],
   "source": [
    "#Perform scrapping and add into beutiful soup\n",
    "time.sleep(4)\n",
    "hemis_html = browser.html\n",
    "soup = be_so (hemis_html, 'html.parser')"
   ]
  },
  {
   "cell_type": "code",
   "execution_count": 26,
   "metadata": {},
   "outputs": [],
   "source": [
    "items = soup.find_all(\"div\", class_=\"item\")\n",
    "hem_urls = []"
   ]
  },
  {
   "cell_type": "code",
   "execution_count": 27,
   "metadata": {},
   "outputs": [],
   "source": [
    "#Create a loop to collect data from all (4) hemispheres\n",
    "\n",
    "for i in range(4):\n",
    "    #create empty dictionary\n",
    "    hemispheres = {}\n",
    "    browser.find_by_css('a.product-item h3')[i].click()\n",
    "    element = browser.links.find_by_text('Sample').first\n",
    "    img2_url = element['href']\n",
    "    title = browser.find_by_css(\"h2.title\").text\n",
    "    hemispheres[\"img_url\"] = img2_url\n",
    "    hemispheres[\"title\"] = title\n",
    "    hem_urls.append(hemispheres)\n",
    "    browser.back()"
   ]
  },
  {
   "cell_type": "code",
   "execution_count": 28,
   "metadata": {},
   "outputs": [],
   "source": [
    "##close the browser\n",
    "\n",
    "browser.quit()"
   ]
  }
 ],
 "metadata": {
  "interpreter": {
   "hash": "79d9159efec089aa108564ea7cfb7a3dffadabaa7b135094da5c7d411d7f155a"
  },
  "kernelspec": {
   "display_name": "Python 3.9.7 ('base')",
   "language": "python",
   "name": "python3"
  },
  "language_info": {
   "codemirror_mode": {
    "name": "ipython",
    "version": 3
   },
   "file_extension": ".py",
   "mimetype": "text/x-python",
   "name": "python",
   "nbconvert_exporter": "python",
   "pygments_lexer": "ipython3",
   "version": "3.9.7"
  },
  "orig_nbformat": 4
 },
 "nbformat": 4,
 "nbformat_minor": 2
}
